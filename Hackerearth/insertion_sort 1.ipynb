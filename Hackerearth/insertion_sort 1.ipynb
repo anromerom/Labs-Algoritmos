{
 "cells": [
  {
   "cell_type": "code",
   "execution_count": 2,
   "metadata": {},
   "outputs": [
    {
     "name": "stdout",
     "output_type": "stream",
     "text": [
      "6\n",
      " 2 3 10 12 15 22\n",
      "2 10 12 22 46 3 15 18\n"
     ]
    }
   ],
   "source": [
    "def vampire_zombie_insertion (A) :\n",
    "    evens = []\n",
    "    odds = []\n",
    "    nodds = 0\n",
    "    nevens = 0\n",
    "    sodds = 0\n",
    "    sevens = 0\n",
    "    for i in range(0,len(A)):\n",
    "\n",
    "        if A[i] % 2 == 0 and nevens == 0:\n",
    "            nevens+=1\n",
    "            evens.append(A[i])\n",
    "            sevens+= A[i]\n",
    "            continue\n",
    "        if A[i] % 2 == 1 and nodds == 0:\n",
    "            nodds+=1\n",
    "            odds.append(A[i])\n",
    "            sodds+= A[i]            \n",
    "            continue\n",
    "\n",
    "        if A[i] % 2 == 0:\n",
    "            evens.append(0)\n",
    "            j = len(evens) -1\n",
    "            temp = A[i]\n",
    "            sevens+= A[i]            \n",
    "            while j > 0 and temp <  evens[j -1]:\n",
    "                evens[j] = evens[ j - 1 ]\n",
    "                j-=1\n",
    "            evens[ j ] =  A[i]\n",
    "\n",
    "        if A[i] % 2 == 1:\n",
    "            odds.append(0)\n",
    "            j = len(odds) -1\n",
    "            temp = A[i]\n",
    "            sodds+= A[i]        \n",
    "            while j > 0 and temp <  odds[j -1]:\n",
    "                odds[j] = odds[ j - 1 ]\n",
    "                j-=1\n",
    "            odds[ j ] = A[i]            \n",
    "            \n",
    "    return evens + [sevens] + odds + [sodds]\n",
    "    \n",
    "    \n",
    "N = int(raw_input())\n",
    "\n",
    "vz = vampire_zombie_insertion( map(int, raw_input().split() ) )\n",
    "\n",
    "\n",
    "print \" \".join(map(str, vz))\n"
   ]
  },
  {
   "cell_type": "code",
   "execution_count": 3,
   "metadata": {},
   "outputs": [
    {
     "name": "stdout",
     "output_type": "stream",
     "text": [
      "4\n",
      "a\n",
      "c\n",
      "d\n",
      "b\n",
      "0\n",
      "1\n",
      "2\n",
      "1\n"
     ]
    }
   ],
   "source": [
    "def monk_nice(A):\n",
    "    niceness = [0]\n",
    "    for i in range(1,len(A)):\n",
    "        count = i\n",
    "        temp = A[ i ];    \n",
    "        j = i;\n",
    "\n",
    "        while  j > 0  and temp <= A[ j - 1]:\n",
    "            A[ j ] = A[ j-1];   \n",
    "            j= j - 1;\n",
    "            count-=1            \n",
    "          \n",
    "        niceness.append(count )\n",
    "\n",
    "\n",
    "        A[ j ] = temp;   \n",
    "\n",
    "    return niceness\n",
    "\n",
    "N = int(raw_input())\n",
    "\n",
    "lst = []\n",
    "for _ in range(N):\n",
    "    lst.append(raw_input())\n",
    "lst = monk_nice(lst)\n",
    "for i in range(N):\n",
    "    print lst[i]\n",
    "    "
   ]
  },
  {
   "cell_type": "code",
   "execution_count": 4,
   "metadata": {},
   "outputs": [
    {
     "name": "stdout",
     "output_type": "stream",
     "text": [
      "1\n",
      "5 1\n",
      "1 2 3 4 5\n",
      "4\n"
     ]
    }
   ],
   "source": [
    "def bubble_sort(A,n):\n",
    "\n",
    "    sumB= 0\n",
    "    for k in range(len(A)-1):\n",
    "        if n == len(A): return 0\n",
    "   \n",
    "        for i in range(len(A)-k-1):\n",
    "            if A[ i ] > A[ i+1]:\n",
    "                temp = A[ i ]\n",
    "                A[ i ] = A[ i + 1 ]\n",
    "                A[ i + 1] = temp\n",
    "            \n",
    "                \n",
    "        \n",
    "        sumB+= A[len(A) - k -1]\n",
    "        subA = A[:len(A)-n ] if len(A)-n >= n else A[:n] \n",
    "        if k == n -1: return sumB - rev_bubble_sort(subA ,  n)\n",
    " \n",
    "    \n",
    "    \n",
    "    \n",
    "def rev_bubble_sort(A,n):\n",
    "    if n == len(A): return sum(A)\n",
    "    sumB= 0\n",
    "    for k in range(len(A)-1):\n",
    "        \n",
    "        for i in range(len(A)-k-1):\n",
    "            if A[ i ] < A[ i+1]:\n",
    "                temp = A[ i ]\n",
    "                A[ i ] = A[ i + 1 ]\n",
    "                A[ i + 1] = temp        \n",
    "                \n",
    "        \n",
    "        sumB+= A[len(A) - k -1]\n",
    "        if k ==  n -1: return sumB         \n",
    "      \n",
    "           \n",
    "   \n",
    "        \n",
    "        \n",
    "        \n",
    "    \n",
    "CASES = int(raw_input())\n",
    "\n",
    "for _ in  range(CASES):\n",
    "    n,m = map(int, raw_input().split())\n",
    "    print bubble_sort(map(int, raw_input().split())  , n-m)      \n",
    "    \n",
    "\n"
   ]
  }
 ],
 "metadata": {
  "kernelspec": {
   "display_name": "Python 2",
   "language": "python",
   "name": "python2"
  },
  "language_info": {
   "codemirror_mode": {
    "name": "ipython",
    "version": 2
   },
   "file_extension": ".py",
   "mimetype": "text/x-python",
   "name": "python",
   "nbconvert_exporter": "python",
   "pygments_lexer": "ipython2",
   "version": "2.7.15"
  }
 },
 "nbformat": 4,
 "nbformat_minor": 2
}
